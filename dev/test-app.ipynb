{
 "cells": [
  {
   "cell_type": "markdown",
   "metadata": {},
   "source": [
    "---\n",
    "title: Testing\n",
    "---"
   ]
  },
  {
   "cell_type": "code",
   "execution_count": 5,
   "metadata": {},
   "outputs": [
    {
     "name": "stdout",
     "output_type": "stream",
     "text": [
      "['/Users/kittipos/Documents/Radio-local/rad-proj/PedDesign-Py/dev', '../src', '../src', '../src', '/Users/kittipos/Documents/Radio-local/rad-proj/PedDesign-Py/dev/src', '/Users/kittipos/.pyenv/versions/3.11.0/lib/python311.zip', '/Users/kittipos/.pyenv/versions/3.11.0/lib/python3.11', '/Users/kittipos/.pyenv/versions/3.11.0/lib/python3.11/lib-dynload', '', '/Users/kittipos/.pyenv/versions/3.11.0/lib/python3.11/site-packages']\n"
     ]
    }
   ],
   "source": [
    "import sys\n",
    "from pathlib import Path\n",
    "sys.path.insert(1, '../src') # '/Users/kittipos/Documents/Radio-local/rad-proj/PedDesign-Py'\n",
    "# sys.path.insert(1, str(Path(\".\").absolute() / 'src'))\n",
    "print(sys.path)\n",
    "import peddesign"
   ]
  },
  {
   "cell_type": "code",
   "execution_count": 12,
   "metadata": {},
   "outputs": [
    {
     "name": "stdout",
     "output_type": "stream",
     "text": [
      "-- Design CT -- \n",
      "\n",
      "CT whole abdomen, venous only\n",
      "Body weight: 6 kg\n",
      "kV: 80\n",
      "mA: auto\n",
      "Noise index: 15\n",
      "Delay: 65\n",
      "Contrast: 12 ml (2 ml/kg * 6 kg = 12) \n",
      "Rate: 0.6 ml/sec (12 + 15) / (65 - 15) = 0.54\n",
      "\n",
      "---\n"
     ]
    }
   ],
   "source": [
    "peddesign.design_ct(\"whole_abd\", \"younger_child\", 6, \"delay\", 65)"
   ]
  },
  {
   "cell_type": "code",
   "execution_count": null,
   "metadata": {},
   "outputs": [],
   "source": []
  },
  {
   "cell_type": "code",
   "execution_count": 8,
   "metadata": {},
   "outputs": [
    {
     "name": "stdout",
     "output_type": "stream",
     "text": [
      "-- Design CT -- \n",
      "\n",
      "CT whole abdomen, venous only\n",
      "Body weight: 6 kg\n",
      "kV: 80\n",
      "mA: auto\n",
      "Noise index: 15\n",
      "Delay: 60 or 65 or 70 sec\n",
      "Contrast: 12 ml (2 ml/kg * 6 kg = 12) \n",
      "Rate: 0.6 ml/sec (12 + 15) / 45 = 0.6\n",
      "\n",
      "---\n"
     ]
    }
   ],
   "source": [
    "peddesign.design_ct(\"whole_abd\", \"younger_child\", 6)"
   ]
  },
  {
   "cell_type": "code",
   "execution_count": 3,
   "metadata": {},
   "outputs": [
    {
     "name": "stdout",
     "output_type": "stream",
     "text": [
      "-- Design CT -- \n",
      "\n",
      "CT chest, venous only\n",
      "Body weight: 12 kg\n",
      "kV: 80\n",
      "mA: auto\n",
      "Noise index: 17\n",
      "Delay: 45 sec\n",
      "Contrast: 12 ml (1 ml/kg * 12 kg = 12) \n",
      "Rate: 0.6 ml/sec (12 + 15) / 45 = 0.6\n",
      "\n",
      "---\n"
     ]
    }
   ],
   "source": [
    "pd.design_chest(\"younger_child\", 12)"
   ]
  },
  {
   "cell_type": "code",
   "execution_count": 7,
   "metadata": {},
   "outputs": [
    {
     "data": {
      "text/plain": [
       "2.7"
      ]
     },
     "execution_count": 7,
     "metadata": {},
     "output_type": "execute_result"
    }
   ],
   "source": [
    "float(\"2.7\")"
   ]
  },
  {
   "cell_type": "code",
   "execution_count": 20,
   "metadata": {},
   "outputs": [
    {
     "name": "stdout",
     "output_type": "stream",
     "text": [
      "Hello\n",
      "World\n"
     ]
    }
   ],
   "source": [
    "print(\"Hello\")\n",
    "print(\"World\")"
   ]
  },
  {
   "cell_type": "code",
   "execution_count": 23,
   "metadata": {},
   "outputs": [
    {
     "data": {
      "text/plain": [
       "'Hello\\nWorld'"
      ]
     },
     "execution_count": 23,
     "metadata": {},
     "output_type": "execute_result"
    }
   ],
   "source": [
    "\"Hello\\n\" + \"World\""
   ]
  },
  {
   "cell_type": "code",
   "execution_count": 15,
   "metadata": {},
   "outputs": [
    {
     "name": "stdout",
     "output_type": "stream",
     "text": [
      "Hello\n"
     ]
    },
    {
     "data": {
      "text/plain": [
       "NoneType"
      ]
     },
     "execution_count": 15,
     "metadata": {},
     "output_type": "execute_result"
    }
   ],
   "source": [
    "type(print(\"Hello\"))"
   ]
  },
  {
   "cell_type": "code",
   "execution_count": 14,
   "metadata": {},
   "outputs": [
    {
     "data": {
      "text/plain": [
       "str"
      ]
     },
     "execution_count": 14,
     "metadata": {},
     "output_type": "execute_result"
    }
   ],
   "source": [
    "type(str(\"Hello\"))"
   ]
  },
  {
   "cell_type": "code",
   "execution_count": 19,
   "metadata": {},
   "outputs": [
    {
     "name": "stdout",
     "output_type": "stream",
     "text": [
      "Hello\n"
     ]
    },
    {
     "data": {
      "text/plain": [
       "str"
      ]
     },
     "execution_count": 19,
     "metadata": {},
     "output_type": "execute_result"
    }
   ],
   "source": [
    "type(str(print(\"Hello\")))"
   ]
  },
  {
   "cell_type": "code",
   "execution_count": 30,
   "metadata": {},
   "outputs": [],
   "source": [
    "import io\n",
    "import sys\n",
    "\n",
    "# Create a StringIO object to capture stdout\n",
    "captured_output = io.StringIO()\n",
    "\n",
    "# Redirect stdout to the StringIO object\n",
    "sys.stdout = captured_output\n",
    "\n",
    "# Now, print statements will go to captured_output instead of the console\n",
    "print(\"Hello\")\n",
    "print(\"World\")\n",
    "\n",
    "# Reset stdout to its original value\n",
    "sys.stdout = sys.__stdout__\n",
    "\n",
    "# Get the captured output as a string\n",
    "output_string = captured_output.getvalue()\n",
    "\n",
    "print(output_string)\n"
   ]
  },
  {
   "cell_type": "code",
   "execution_count": 34,
   "metadata": {},
   "outputs": [
    {
     "data": {
      "text/plain": [
       "'Hello\\nWorld\\n'"
      ]
     },
     "execution_count": 34,
     "metadata": {},
     "output_type": "execute_result"
    }
   ],
   "source": [
    "type(output_string)\n",
    "output_string"
   ]
  },
  {
   "cell_type": "markdown",
   "metadata": {},
   "source": [
    "## Capture Output\n",
    "\n",
    "from: [Stack Overflow](https://stackoverflow.com/questions/16571150/how-to-capture-stdout-output-from-a-python-function-call)"
   ]
  },
  {
   "cell_type": "code",
   "execution_count": 1,
   "metadata": {},
   "outputs": [],
   "source": [
    "from io import StringIO \n",
    "import sys\n",
    "\n",
    "class Capturing(list):\n",
    "    def __enter__(self):\n",
    "        self._stdout = sys.stdout\n",
    "        sys.stdout = self._stringio = StringIO()\n",
    "        return self\n",
    "    def __exit__(self, *args):\n",
    "        self.extend(self._stringio.getvalue().splitlines())\n",
    "        del self._stringio    # free up some memory\n",
    "        sys.stdout = self._stdout"
   ]
  },
  {
   "cell_type": "code",
   "execution_count": 2,
   "metadata": {},
   "outputs": [
    {
     "name": "stdout",
     "output_type": "stream",
     "text": [
      "displays on screen\n",
      "done\n",
      "output: ['hello world', 'hello world2']\n"
     ]
    }
   ],
   "source": [
    "with Capturing() as output:\n",
    "    print('hello world')\n",
    "\n",
    "print('displays on screen')\n",
    "\n",
    "with Capturing(output) as output:  # note the constructor argument\n",
    "    print('hello world2')\n",
    "\n",
    "print('done')\n",
    "print('output:', output)"
   ]
  },
  {
   "cell_type": "code",
   "execution_count": 6,
   "metadata": {},
   "outputs": [
    {
     "data": {
      "text/plain": [
       "['hello2', 'World2']"
      ]
     },
     "execution_count": 6,
     "metadata": {},
     "output_type": "execute_result"
    }
   ],
   "source": [
    "with Capturing() as output:\n",
    "    print('hello2')\n",
    "    print('World2')\n",
    "\n",
    "output"
   ]
  },
  {
   "cell_type": "code",
   "execution_count": 11,
   "metadata": {},
   "outputs": [
    {
     "data": {
      "text/plain": [
       "'hello\\nWorld\\nAgain'"
      ]
     },
     "execution_count": 11,
     "metadata": {},
     "output_type": "execute_result"
    }
   ],
   "source": [
    "l = ['hello', 'World', \"Again\"]\n",
    "\n",
    "\"\\n\".join(l)"
   ]
  },
  {
   "cell_type": "code",
   "execution_count": 12,
   "metadata": {},
   "outputs": [
    {
     "name": "stdout",
     "output_type": "stream",
     "text": [
      "hello\n",
      "World\n",
      "Again\n"
     ]
    }
   ],
   "source": [
    "print(\"\\n\".join(l))"
   ]
  },
  {
   "cell_type": "code",
   "execution_count": 13,
   "metadata": {},
   "outputs": [
    {
     "data": {
      "text/plain": [
       "'\\n\\n'"
      ]
     },
     "execution_count": 13,
     "metadata": {},
     "output_type": "execute_result"
    }
   ],
   "source": [
    "\"\\n\"*2"
   ]
  },
  {
   "cell_type": "code",
   "execution_count": null,
   "metadata": {},
   "outputs": [],
   "source": []
  }
 ],
 "metadata": {
  "kernelspec": {
   "display_name": "Python 3",
   "language": "python",
   "name": "python3"
  },
  "language_info": {
   "codemirror_mode": {
    "name": "ipython",
    "version": 3
   },
   "file_extension": ".py",
   "mimetype": "text/x-python",
   "name": "python",
   "nbconvert_exporter": "python",
   "pygments_lexer": "ipython3",
   "version": "3.11.0"
  }
 },
 "nbformat": 4,
 "nbformat_minor": 2
}
