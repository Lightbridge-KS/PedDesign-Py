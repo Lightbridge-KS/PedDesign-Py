{
 "cells": [
  {
   "cell_type": "markdown",
   "metadata": {},
   "source": [
    "# Test PKG"
   ]
  },
  {
   "cell_type": "code",
   "execution_count": 1,
   "metadata": {},
   "outputs": [],
   "source": [
    "import sys\n",
    "from pathlib import Path\n",
    "# sys.path.insert(1, str(Path(\".\").absolute() / 'src')) # To subdir\n",
    "sys.path.insert(1, '../src')\n",
    "import peddesign\n",
    "import numpy as np"
   ]
  },
  {
   "cell_type": "markdown",
   "metadata": {},
   "source": [
    "## Design CT"
   ]
  },
  {
   "cell_type": "markdown",
   "metadata": {},
   "source": [
    "### General Design"
   ]
  },
  {
   "cell_type": "code",
   "execution_count": 2,
   "metadata": {},
   "outputs": [
    {
     "data": {
      "text/plain": [
       "'-- Design CT --\\nCT chest, venous only\\nBody weight: 10 kg\\nkV: 80\\nmA: auto\\nNoise index: 20\\nDelay: 45 sec\\nContrast: 10 ml (1 ml/kg * 10 kg = 10)\\nRate: 0.9 ml/sec (10 + 15) / 30 = 0.833\\n---\\n'"
      ]
     },
     "execution_count": 2,
     "metadata": {},
     "output_type": "execute_result"
    }
   ],
   "source": [
    "d_ctchest1 = peddesign.design_ct_str(\"chest\", 10, is_first_study=False)\n",
    "d_ctchest1"
   ]
  },
  {
   "cell_type": "code",
   "execution_count": 3,
   "metadata": {},
   "outputs": [
    {
     "data": {
      "text/plain": [
       "str"
      ]
     },
     "execution_count": 3,
     "metadata": {},
     "output_type": "execute_result"
    }
   ],
   "source": [
    "type(d_ctchest1)"
   ]
  },
  {
   "cell_type": "code",
   "execution_count": 4,
   "metadata": {},
   "outputs": [
    {
     "name": "stdout",
     "output_type": "stream",
     "text": [
      "-- Design CT --\n",
      "CT chest, venous only\n",
      "Body weight: 10 kg\n",
      "kV: 80\n",
      "mA: auto\n",
      "Noise index: 20\n",
      "Delay: 45 sec\n",
      "Contrast: 10 ml (1 ml/kg * 10 kg = 10)\n",
      "Rate: 0.9 ml/sec (10 + 15) / 30 = 0.833\n",
      "---\n",
      "\n"
     ]
    }
   ],
   "source": [
    "peddesign.design_ct(\"chest\", 10, is_first_study=False)"
   ]
  },
  {
   "cell_type": "markdown",
   "metadata": {},
   "source": [
    "### CT Chest"
   ]
  },
  {
   "cell_type": "code",
   "execution_count": 5,
   "metadata": {},
   "outputs": [
    {
     "name": "stdout",
     "output_type": "stream",
     "text": [
      "-- Design CT --\n",
      "CT chest, venous only\n",
      "Body weight: 10 kg\n",
      "kV: 80\n",
      "mA: auto\n",
      "Noise index: 17\n",
      "Delay: 45 sec\n",
      "Contrast: 10 ml (1 ml/kg * 10 kg = 10)\n",
      "Rate: 0.9 ml/sec (10 + 15) / 30 = 0.833\n",
      "---\n",
      "\n"
     ]
    }
   ],
   "source": [
    "ctchest1 = peddesign.DesignCTchest(10, True)\n",
    "print(ctchest1)"
   ]
  },
  {
   "cell_type": "code",
   "execution_count": 6,
   "metadata": {},
   "outputs": [
    {
     "data": {
      "text/plain": [
       "'-- Design CT --\\nCT chest, venous only\\nBody weight: 10 kg\\nkV: 80\\nmA: auto\\nNoise index: 17\\nDelay: 45 sec\\nContrast: 10 ml (1 ml/kg * 10 kg = 10)\\nRate: 0.9 ml/sec (10 + 15) / 30 = 0.833\\n---\\n'"
      ]
     },
     "execution_count": 6,
     "metadata": {},
     "output_type": "execute_result"
    }
   ],
   "source": [
    "ctchest1.str_design"
   ]
  },
  {
   "cell_type": "markdown",
   "metadata": {},
   "source": [
    "### CTWA"
   ]
  },
  {
   "cell_type": "code",
   "execution_count": 6,
   "metadata": {},
   "outputs": [
    {
     "name": "stdout",
     "output_type": "stream",
     "text": [
      "-- Design CT -- \n",
      "\n",
      "CT whole abdomen, venous only\n",
      "Body weight: 19 kg\n",
      "kV: 80\n",
      "mA: auto\n",
      "Noise index: 17\n",
      "Delay: 60 or 65 or 70 sec\n",
      "Contrast: 38 ml (2 ml/kg * 19 kg = 38) \n",
      "Rate: 1.2 ml/sec (38 + 15) / 45 = 1.178\n",
      "\n",
      "---\n"
     ]
    }
   ],
   "source": [
    "peddesign.design_whole_abd_2(19, False, rate_formula= \"no_delay\")"
   ]
  },
  {
   "cell_type": "code",
   "execution_count": 7,
   "metadata": {},
   "outputs": [
    {
     "name": "stdout",
     "output_type": "stream",
     "text": [
      "-- Design CT -- \n",
      "\n",
      "CT whole abdomen, venous only\n",
      "Body weight: 20 kg\n",
      "kV: 80 or 100\n",
      "mA: auto\n",
      "Noise index: 17\n",
      "Delay: 65 sec\n",
      "Contrast: 40 ml (2 ml/kg * 20 kg = 40) \n",
      "Rate: 1.3 ml/sec (40 + 15) / (65 - 20) = 1.222\n",
      "\n",
      "---\n"
     ]
    }
   ],
   "source": [
    "peddesign.design_whole_abd_2(20, False, rate_formula= \"delay\", delay_sec=65)"
   ]
  },
  {
   "cell_type": "code",
   "execution_count": 8,
   "metadata": {},
   "outputs": [
    {
     "data": {
      "text/plain": [
       "\n",
       "-- Design CT --\n",
       "CT whole abdomen, venous only\n",
       "Body weight: 20 kg\n",
       "kV: 80 or 100\n",
       "mA: auto\n",
       "Noise index: 17\n",
       "Delay: Delay: 65 sec \n",
       "Contrast: 40 ml (2 ml/kg * 20 kg = 40)\n",
       "Rate: 1.3 ml/sec (40 + 15) / (65 - 20) = 1.222\n",
       "---"
      ]
     },
     "execution_count": 8,
     "metadata": {},
     "output_type": "execute_result"
    }
   ],
   "source": [
    "ctwa1 = peddesign.DesignCTwholeAbd(20, False, rate_formula= \"delay\", delay_sec=65)\n",
    "ctwa1"
   ]
  },
  {
   "cell_type": "code",
   "execution_count": 9,
   "metadata": {},
   "outputs": [
    {
     "data": {
      "text/plain": [
       "'\\n-- Design CT --\\nCT whole abdomen, venous only\\nBody weight: 20 kg\\nkV: 80 or 100\\nmA: auto\\nNoise index: 17\\nDelay: Delay: 65 sec \\nContrast: 40 ml (2 ml/kg * 20 kg = 40)\\nRate: 1.3 ml/sec (40 + 15) / (65 - 20) = 1.222\\n---\\n'"
      ]
     },
     "execution_count": 9,
     "metadata": {},
     "output_type": "execute_result"
    }
   ],
   "source": [
    "ctwa1.str_design"
   ]
  },
  {
   "cell_type": "markdown",
   "metadata": {},
   "source": [
    "### CT chest + WA"
   ]
  },
  {
   "cell_type": "code",
   "execution_count": 10,
   "metadata": {},
   "outputs": [
    {
     "data": {
      "text/plain": [
       "\n",
       "-- Design CT --\n",
       "Venous chest + whole abdomen\n",
       "Body weight: 20 kg\n",
       "kV: 80 or 100\n",
       "mA: auto\n",
       "Noise index: 17\n",
       "Delay: Delay: 65 sec \n",
       "Contrast: 40 ml (2 ml/kg * 20 kg = 40)\n",
       "Rate: 1.3 ml/sec (40 + 15) / (65 - 20) = 1.222\n",
       "---"
      ]
     },
     "execution_count": 10,
     "metadata": {},
     "output_type": "execute_result"
    }
   ],
   "source": [
    "peddesign.DesignCTchestWholeAbd(20, False, rate_formula= \"delay\", delay_sec=65)"
   ]
  },
  {
   "cell_type": "markdown",
   "metadata": {},
   "source": [
    "### CTA Liver"
   ]
  },
  {
   "cell_type": "code",
   "execution_count": 11,
   "metadata": {},
   "outputs": [
    {
     "data": {
      "text/plain": [
       "\n",
       "-- Design CT --\n",
       "CTA liver\n",
       "Body weight: 10 kg\n",
       "kV: 80\n",
       "mA: auto\n",
       "Noise index: 17\n",
       "Delay: 20 sec (CTA); 70 sec (Venous)\n",
       "Contrast: 25.0 ml (2.5 ml/kg * 10 kg = 25.0)\n",
       "Rate: 2.0 ml/sec (25.0 + 15) / 20 = 2.0\n",
       "---"
      ]
     },
     "execution_count": 11,
     "metadata": {},
     "output_type": "execute_result"
    }
   ],
   "source": [
    "peddesign.DesignCTAliver(10)"
   ]
  },
  {
   "cell_type": "markdown",
   "metadata": {},
   "source": [
    "## Child"
   ]
  },
  {
   "cell_type": "markdown",
   "metadata": {},
   "source": [
    "### Get kV"
   ]
  },
  {
   "cell_type": "code",
   "execution_count": 13,
   "metadata": {},
   "outputs": [],
   "source": [
    "\n",
    "def get_kV(weight_kg: float) -> str:\n",
    "    \"\"\"Get kV according to weight in kg\n",
    "\n",
    "    Args:\n",
    "        weight_kg (float): patient's weight in kg\n",
    "\n",
    "    Returns:\n",
    "        str: string of weight \n",
    "    \"\"\"\n",
    "\n",
    "    assert isinstance(weight_kg, (int, float)) and weight_kg > 0\n",
    "    \n",
    "    if weight_kg < 20:\n",
    "        kV = \"80\"\n",
    "    elif weight_kg == 20:\n",
    "        kV = \"80 or 100\"\n",
    "    elif weight_kg < 45:\n",
    "        kV = \"100\"\n",
    "    elif weight_kg == 45:\n",
    "        kV = \"100 or 120\"\n",
    "    elif weight_kg <= 60:\n",
    "        kV = \"120\"\n",
    "    else:\n",
    "        # weight_kg ≥ 60\n",
    "        kV = \"120 ?\"\n",
    "    \n",
    "    return kV\n"
   ]
  },
  {
   "cell_type": "code",
   "execution_count": 14,
   "metadata": {},
   "outputs": [
    {
     "name": "stdout",
     "output_type": "stream",
     "text": [
      "Help on function get_kV in module __main__:\n",
      "\n",
      "get_kV(weight_kg: float) -> str\n",
      "    Get kV according to weight in kg\n",
      "    \n",
      "    Args:\n",
      "        weight_kg (float): patient's weight in kg\n",
      "    \n",
      "    Returns:\n",
      "        str: string of weight\n",
      "\n"
     ]
    }
   ],
   "source": [
    "help(get_kV)"
   ]
  },
  {
   "cell_type": "code",
   "execution_count": 18,
   "metadata": {},
   "outputs": [
    {
     "data": {
      "text/plain": [
       "'80'"
      ]
     },
     "execution_count": 18,
     "metadata": {},
     "output_type": "execute_result"
    }
   ],
   "source": [
    "get_kV(True)"
   ]
  },
  {
   "cell_type": "code",
   "execution_count": 20,
   "metadata": {},
   "outputs": [
    {
     "data": {
      "text/plain": [
       "True"
      ]
     },
     "execution_count": 20,
     "metadata": {},
     "output_type": "execute_result"
    }
   ],
   "source": [
    "isinstance(True, int)"
   ]
  },
  {
   "cell_type": "markdown",
   "metadata": {},
   "source": [
    "### Get Contrast ML"
   ]
  },
  {
   "cell_type": "code",
   "execution_count": 3,
   "metadata": {},
   "outputs": [],
   "source": [
    "\n",
    "def get_contrast_ml(ml_kg: float, weight_kg: float) -> float:\n",
    "    \"\"\"Get contrast volume in ml from ml/kg and weight (kg)\n",
    "\n",
    "    Args:\n",
    "        ml_kg (float): Contrast ml/kg \n",
    "        weight_kg (float): Patient's weight (kg)\n",
    "\n",
    "    Returns:\n",
    "        float: ml of contrast\n",
    "    \"\"\"\n",
    "    assert isinstance(weight_kg, (int, float)) and weight_kg > 0\n",
    "    \n",
    "    ml = ml_kg * weight_kg\n",
    "    \n",
    "    # Maximum contrast = 80 ml\n",
    "    return round(ml, 1) if ml < 80 else 80\n",
    "\n"
   ]
  },
  {
   "cell_type": "markdown",
   "metadata": {},
   "source": [
    "### Print Contrast"
   ]
  },
  {
   "cell_type": "code",
   "execution_count": 4,
   "metadata": {},
   "outputs": [],
   "source": [
    "def print_contrast(ml_kg: float, weight_kg: float) -> None:\n",
    "    \"\"\"Print contrast calculation to STD out\n",
    "\n",
    "    Args:\n",
    "        ml_kg (float): Contrast ml/kg \n",
    "        weight_kg (float): Patient's weight (kg)\n",
    "    \"\"\"\n",
    "    ml = ml_kg * weight_kg\n",
    "    if ml >= 80:\n",
    "        ml_adj_txt = \"80 ml [maximum]\"\n",
    "    else:\n",
    "        ml_adj_txt = f\"{round(ml, 1)} ml\"\n",
    "    \n",
    "    print(f\"Contrast: {ml_adj_txt} ({ml_kg} ml/kg * {weight_kg} kg = {ml}) \")\n",
    "\n"
   ]
  },
  {
   "cell_type": "markdown",
   "metadata": {},
   "source": [
    "### Rate (Ml/sec)"
   ]
  },
  {
   "cell_type": "code",
   "execution_count": null,
   "metadata": {},
   "outputs": [],
   "source": [
    "def print_rate_ml_sec_2(contrast_ml, rate_formula=\"no_delay\", delay_sec=None):\n",
    "    rate_formula = rate_formula.lower()\n",
    "    assert isinstance(contrast_ml, (int, float)) and contrast_ml > 0\n",
    "    \n",
    "    if rate_formula == \"no_delay\":\n",
    "        rate = (contrast_ml + 15) / 45\n",
    "        rate_adj = math.ceil(rate * 10) / 10  # Round up to 1 decimal place\n",
    "        \n",
    "        show_calc = f\"({contrast_ml} + 15) / 45 = {round(rate, 3)}\"\n",
    "    \n",
    "    elif rate_formula == \"delay\":\n",
    "        assert isinstance(delay_sec, (int, float))\n",
    "        \n",
    "        rate = (contrast_ml + 15) / (delay_sec - 15)\n",
    "        rate_adj = math.ceil(rate * 10) / 10  # Round up to 1 decimal place\n",
    "        \n",
    "        show_calc = f\"({contrast_ml} + 15) / ({delay_sec} - 15) = {round(rate, 3)}\"\n",
    "        \n",
    "    else:\n",
    "        raise ValueError(\"Invalid rate_formula value. Please choose 'no_delay' or 'delay'.\")\n",
    "    \n",
    "    print(f\"Rate: {rate_adj} ml/sec {show_calc}\")"
   ]
  },
  {
   "cell_type": "code",
   "execution_count": 48,
   "metadata": {},
   "outputs": [
    {
     "data": {
      "text/plain": [
       "array([[40, 35],\n",
       "       [45, 40],\n",
       "       [50, 45]])"
      ]
     },
     "execution_count": 48,
     "metadata": {},
     "output_type": "execute_result"
    }
   ],
   "source": [
    "# Your arrays\n",
    "array1 = np.array([60, 65, 70])\n",
    "array2 = np.array([20, 25])\n",
    "\n",
    "array1.reshape(-1, 1) - array2"
   ]
  },
  {
   "cell_type": "markdown",
   "metadata": {},
   "source": [
    "## Ideas"
   ]
  },
  {
   "cell_type": "code",
   "execution_count": 24,
   "metadata": {},
   "outputs": [],
   "source": [
    "def print_something(x, y, z):\n",
    "    print(f\"\"\"\n",
    "Hello \n",
    "    x = {x}\n",
    "    y = {y}\n",
    "    z = {z}\n",
    "    \"\"\")"
   ]
  },
  {
   "cell_type": "code",
   "execution_count": 25,
   "metadata": {},
   "outputs": [
    {
     "name": "stdout",
     "output_type": "stream",
     "text": [
      "\n",
      "Hello \n",
      "    x = 1\n",
      "    y = 2\n",
      "    z = 3\n",
      "    \n"
     ]
    }
   ],
   "source": [
    "print_something(1, 2, 3)"
   ]
  },
  {
   "cell_type": "code",
   "execution_count": 26,
   "metadata": {},
   "outputs": [],
   "source": [
    "strings1 = \"\"\"\n",
    "Hello \n",
    "    x = {x}\n",
    "    y = {y}\n",
    "    z = {z}\n",
    "\"\"\"\n",
    "\n",
    "def print_something2(x, y, z):\n",
    "    # Use str.format() to replace placeholders with argument values\n",
    "    formatted_string = strings1.format(x=x, y=y, z=z)\n",
    "    print(formatted_string)"
   ]
  },
  {
   "cell_type": "code",
   "execution_count": 27,
   "metadata": {},
   "outputs": [
    {
     "name": "stdout",
     "output_type": "stream",
     "text": [
      "\n",
      "Hello \n",
      "    x = 1\n",
      "    y = 2\n",
      "    z = 3\n",
      "\n"
     ]
    }
   ],
   "source": [
    "print_something2(1,2,3)"
   ]
  },
  {
   "cell_type": "code",
   "execution_count": 5,
   "metadata": {},
   "outputs": [],
   "source": [
    "some_str = {\n",
    "    \"string1\": \"\"\"\n",
    "Hello \n",
    "    x = {x}\n",
    "    y = {y}\n",
    "    z = {z}\n",
    "\"\"\",\n",
    "    \"string2\": \"\"\"\n",
    "Hi {x}, {y}, {z}\n",
    "\"\"\"\n",
    "}\n",
    "\n",
    "\n",
    "def print_something3(x, y, z):\n",
    "    # Use str.format() to replace placeholders with argument values\n",
    "    fmt_str1 = some_str[\"string1\"].format(x=x, y=y, z=z)\n",
    "    fmt_str2 = some_str[\"string2\"].format(x=x, y=y, z=z)\n",
    "    print(fmt_str1, fmt_str2)"
   ]
  },
  {
   "cell_type": "code",
   "execution_count": 6,
   "metadata": {},
   "outputs": [
    {
     "name": "stdout",
     "output_type": "stream",
     "text": [
      "\n",
      "Hello \n",
      "    x = 1\n",
      "    y = 2\n",
      "    z = 3\n",
      " \n",
      "Hi 1, 2, 3\n",
      "\n"
     ]
    }
   ],
   "source": [
    "print_something3(1, 2, 3)"
   ]
  },
  {
   "cell_type": "code",
   "execution_count": 9,
   "metadata": {},
   "outputs": [],
   "source": [
    "def get_contrast_str(ml_kg: float, weight_kg: float) -> None:\n",
    "    \"\"\"Get contrast calculation as string\n",
    "\n",
    "    Args:\n",
    "        ml_kg (float): Contrast ml/kg \n",
    "        weight_kg (float): Patient's weight (kg)\n",
    "    \"\"\"\n",
    "    ml = ml_kg * weight_kg\n",
    "    if ml >= 80:\n",
    "        ml_adj_txt = \"80 ml [maximum]\"\n",
    "    else:\n",
    "        ml_adj_txt = f\"{round(ml, 1)} ml\"\n",
    "    \n",
    "    contrast_calc = f\"{ml_adj_txt} ({ml_kg} ml/kg * {weight_kg} kg = {ml})\"\n",
    "    return contrast_calc"
   ]
  },
  {
   "cell_type": "code",
   "execution_count": 10,
   "metadata": {},
   "outputs": [
    {
     "data": {
      "text/plain": [
       "'2 ml (1 ml/kg * 2 kg = 2)'"
      ]
     },
     "execution_count": 10,
     "metadata": {},
     "output_type": "execute_result"
    }
   ],
   "source": [
    "get_contrast_str(1, 2)"
   ]
  },
  {
   "cell_type": "code",
   "execution_count": null,
   "metadata": {},
   "outputs": [],
   "source": []
  }
 ],
 "metadata": {
  "kernelspec": {
   "display_name": "Python 3",
   "language": "python",
   "name": "python3"
  },
  "language_info": {
   "codemirror_mode": {
    "name": "ipython",
    "version": 3
   },
   "file_extension": ".py",
   "mimetype": "text/x-python",
   "name": "python",
   "nbconvert_exporter": "python",
   "pygments_lexer": "ipython3",
   "version": "3.11.0"
  }
 },
 "nbformat": 4,
 "nbformat_minor": 2
}
